{
 "cells": [
  {
   "cell_type": "code",
   "execution_count": 149,
   "metadata": {},
   "outputs": [],
   "source": [
    "import polars as pl"
   ]
  },
  {
   "cell_type": "code",
   "execution_count": 151,
   "metadata": {},
   "outputs": [],
   "source": [
    "def process_body(field_list) -> dict:\n",
    "    record_dict = {}\n",
    "    for field in field_list:\n",
    "        if '=' in field:\n",
    "            tag, value = field.split(\"=\")\n",
    "            record_dict[tag] = value\n",
    "    return record_dict"
   ]
  },
  {
   "cell_type": "code",
   "execution_count": 152,
   "metadata": {},
   "outputs": [],
   "source": [
    "def read_log(filename) -> list[dict]:\n",
    "    with open(filename, \"r\", encoding=\"utf8\") as file:\n",
    "        record_list = []\n",
    "        for line in file:\n",
    "            field_list = line.split(chr(1)) # chr, ord\n",
    "            log_dt, _ = field_list[0].split(\": \")\n",
    "            fields = field_list[1:]\n",
    "            record_dict = process_body(fields)\n",
    "            record_dict[\"log_dt\"] = log_dt\n",
    "            record_list.append(record_dict)\n",
    "        return record_list\n"
   ]
  },
  {
   "cell_type": "code",
   "execution_count": 204,
   "metadata": {},
   "outputs": [],
   "source": [
    "record_list=read_log(\"input/FIX.4.2-CSCII2-FIXTEST_Messages_20240313-0.log\")"
   ]
  },
  {
   "cell_type": "code",
   "execution_count": 205,
   "metadata": {},
   "outputs": [],
   "source": [
    "df0=pl.from_dicts(record_list).with_columns(pl.col('log_dt').str.to_datetime('%F %X.%3f'))"
   ]
  },
  {
   "cell_type": "code",
   "execution_count": 206,
   "metadata": {},
   "outputs": [],
   "source": [
    "df_order=df0.filter(pl.col('35')=='D').select('1', '11', '55', 'log_dt')\n",
    "df_trade=df0.filter(pl.col('35')=='8').select('1', '11', '55', 'log_dt')\n",
    "df_cancel=df0.filter(pl.col('35')=='F').select('11','41', 'log_dt')"
   ]
  },
  {
   "cell_type": "code",
   "execution_count": 207,
   "metadata": {},
   "outputs": [],
   "source": [
    "df_order_delay=df_order.join(df_trade, on=['1','11', '55']).rename({'1':'account_id', '11':'order_id', '55':'code', 'log_dt':'order_dt', 'log_dt_right':'order_report_dt'}).with_columns((pl.col('order_report_dt')-pl.col('order_dt')).cast(pl.UInt64).alias('order_delay'))"
   ]
  },
  {
   "cell_type": "code",
   "execution_count": 208,
   "metadata": {},
   "outputs": [],
   "source": [
    "df_cancel_delay=df_cancel.join(df_trade, on='11').rename({'1':'account_id', '41':'order_id', 'log_dt':'cancel_dt', 'log_dt_right':'cancel_report_dt'}).with_columns((pl.col('cancel_report_dt')-pl.col('cancel_dt')).cast(pl.UInt64).alias('cancel_delay'))"
   ]
  },
  {
   "cell_type": "code",
   "execution_count": 214,
   "metadata": {},
   "outputs": [],
   "source": [
    "df_summary=df_order_delay.join(df_cancel_delay, on=['account_id','order_id']).select(pl.exclude(['11', '55']))"
   ]
  },
  {
   "cell_type": "code",
   "execution_count": 215,
   "metadata": {},
   "outputs": [],
   "source": [
    "df_o32_sh=df_summary.filter(pl.col('account_id') == \"19997001\").filter(pl.col('code').str.starts_with('6'))\n",
    "df_o32_sz=df_summary.filter(pl.col('account_id') == \"19997001\").filter(~pl.col('code').str.starts_with('6'))\n",
    "df_ldp_sh=df_summary.filter(pl.col('account_id') == \"19997002\").filter(pl.col('code').str.starts_with('6'))\n",
    "df_ldp_sz=df_summary.filter(pl.col('account_id') == \"19997002\").filter(~pl.col('code').str.starts_with('6'))"
   ]
  },
  {
   "cell_type": "code",
   "execution_count": 223,
   "metadata": {},
   "outputs": [
    {
     "data": {
      "text/html": [
       "<div><style>\n",
       ".dataframe > thead > tr,\n",
       ".dataframe > tbody > tr {\n",
       "  text-align: right;\n",
       "  white-space: pre-wrap;\n",
       "}\n",
       "</style>\n",
       "<small>shape: (9, 3)</small><table border=\"1\" class=\"dataframe\"><thead><tr><th>describe</th><th>order_delay</th><th>cancel_delay</th></tr><tr><td>str</td><td>f64</td><td>f64</td></tr></thead><tbody><tr><td>&quot;count&quot;</td><td>201.0</td><td>201.0</td></tr><tr><td>&quot;null_count&quot;</td><td>0.0</td><td>0.0</td></tr><tr><td>&quot;mean&quot;</td><td>61.129353</td><td>861.522388</td></tr><tr><td>&quot;std&quot;</td><td>10.689396</td><td>715.192164</td></tr><tr><td>&quot;min&quot;</td><td>50.0</td><td>215.0</td></tr><tr><td>&quot;25%&quot;</td><td>55.0</td><td>427.0</td></tr><tr><td>&quot;50%&quot;</td><td>59.0</td><td>527.0</td></tr><tr><td>&quot;75%&quot;</td><td>62.0</td><td>821.0</td></tr><tr><td>&quot;max&quot;</td><td>133.0</td><td>2437.0</td></tr></tbody></table></div>"
      ],
      "text/plain": [
       "shape: (9, 3)\n",
       "┌────────────┬─────────────┬──────────────┐\n",
       "│ describe   ┆ order_delay ┆ cancel_delay │\n",
       "│ ---        ┆ ---         ┆ ---          │\n",
       "│ str        ┆ f64         ┆ f64          │\n",
       "╞════════════╪═════════════╪══════════════╡\n",
       "│ count      ┆ 201.0       ┆ 201.0        │\n",
       "│ null_count ┆ 0.0         ┆ 0.0          │\n",
       "│ mean       ┆ 61.129353   ┆ 861.522388   │\n",
       "│ std        ┆ 10.689396   ┆ 715.192164   │\n",
       "│ min        ┆ 50.0        ┆ 215.0        │\n",
       "│ 25%        ┆ 55.0        ┆ 427.0        │\n",
       "│ 50%        ┆ 59.0        ┆ 527.0        │\n",
       "│ 75%        ┆ 62.0        ┆ 821.0        │\n",
       "│ max        ┆ 133.0       ┆ 2437.0       │\n",
       "└────────────┴─────────────┴──────────────┘"
      ]
     },
     "execution_count": 223,
     "metadata": {},
     "output_type": "execute_result"
    }
   ],
   "source": [
    "df_o32_sh.select('order_delay', 'cancel_delay').describe()"
   ]
  },
  {
   "cell_type": "code",
   "execution_count": 219,
   "metadata": {},
   "outputs": [
    {
     "data": {
      "text/html": [
       "<div><style>\n",
       ".dataframe > thead > tr,\n",
       ".dataframe > tbody > tr {\n",
       "  text-align: right;\n",
       "  white-space: pre-wrap;\n",
       "}\n",
       "</style>\n",
       "<small>shape: (9, 3)</small><table border=\"1\" class=\"dataframe\"><thead><tr><th>describe</th><th>order_delay</th><th>cancel_delay</th></tr><tr><td>str</td><td>f64</td><td>f64</td></tr></thead><tbody><tr><td>&quot;count&quot;</td><td>201.0</td><td>201.0</td></tr><tr><td>&quot;null_count&quot;</td><td>0.0</td><td>0.0</td></tr><tr><td>&quot;mean&quot;</td><td>62.940299</td><td>956.746269</td></tr><tr><td>&quot;std&quot;</td><td>10.445402</td><td>218.056989</td></tr><tr><td>&quot;min&quot;</td><td>50.0</td><td>410.0</td></tr><tr><td>&quot;25%&quot;</td><td>56.0</td><td>810.0</td></tr><tr><td>&quot;50%&quot;</td><td>60.0</td><td>964.0</td></tr><tr><td>&quot;75%&quot;</td><td>65.0</td><td>1091.0</td></tr><tr><td>&quot;max&quot;</td><td>98.0</td><td>1490.0</td></tr></tbody></table></div>"
      ],
      "text/plain": [
       "shape: (9, 3)\n",
       "┌────────────┬─────────────┬──────────────┐\n",
       "│ describe   ┆ order_delay ┆ cancel_delay │\n",
       "│ ---        ┆ ---         ┆ ---          │\n",
       "│ str        ┆ f64         ┆ f64          │\n",
       "╞════════════╪═════════════╪══════════════╡\n",
       "│ count      ┆ 201.0       ┆ 201.0        │\n",
       "│ null_count ┆ 0.0         ┆ 0.0          │\n",
       "│ mean       ┆ 62.940299   ┆ 956.746269   │\n",
       "│ std        ┆ 10.445402   ┆ 218.056989   │\n",
       "│ min        ┆ 50.0        ┆ 410.0        │\n",
       "│ 25%        ┆ 56.0        ┆ 810.0        │\n",
       "│ 50%        ┆ 60.0        ┆ 964.0        │\n",
       "│ 75%        ┆ 65.0        ┆ 1091.0       │\n",
       "│ max        ┆ 98.0        ┆ 1490.0       │\n",
       "└────────────┴─────────────┴──────────────┘"
      ]
     },
     "execution_count": 219,
     "metadata": {},
     "output_type": "execute_result"
    }
   ],
   "source": [
    "df_o32_sz.select('order_delay', 'cancel_delay').describe()"
   ]
  },
  {
   "cell_type": "code",
   "execution_count": 220,
   "metadata": {},
   "outputs": [
    {
     "data": {
      "text/html": [
       "<div><style>\n",
       ".dataframe > thead > tr,\n",
       ".dataframe > tbody > tr {\n",
       "  text-align: right;\n",
       "  white-space: pre-wrap;\n",
       "}\n",
       "</style>\n",
       "<small>shape: (9, 3)</small><table border=\"1\" class=\"dataframe\"><thead><tr><th>describe</th><th>order_delay</th><th>cancel_delay</th></tr><tr><td>str</td><td>f64</td><td>f64</td></tr></thead><tbody><tr><td>&quot;count&quot;</td><td>203.0</td><td>203.0</td></tr><tr><td>&quot;null_count&quot;</td><td>0.0</td><td>0.0</td></tr><tr><td>&quot;mean&quot;</td><td>15.492611</td><td>64.448276</td></tr><tr><td>&quot;std&quot;</td><td>3.477466</td><td>8.578758</td></tr><tr><td>&quot;min&quot;</td><td>8.0</td><td>48.0</td></tr><tr><td>&quot;25%&quot;</td><td>12.0</td><td>59.0</td></tr><tr><td>&quot;50%&quot;</td><td>16.0</td><td>63.0</td></tr><tr><td>&quot;75%&quot;</td><td>19.0</td><td>69.0</td></tr><tr><td>&quot;max&quot;</td><td>22.0</td><td>109.0</td></tr></tbody></table></div>"
      ],
      "text/plain": [
       "shape: (9, 3)\n",
       "┌────────────┬─────────────┬──────────────┐\n",
       "│ describe   ┆ order_delay ┆ cancel_delay │\n",
       "│ ---        ┆ ---         ┆ ---          │\n",
       "│ str        ┆ f64         ┆ f64          │\n",
       "╞════════════╪═════════════╪══════════════╡\n",
       "│ count      ┆ 203.0       ┆ 203.0        │\n",
       "│ null_count ┆ 0.0         ┆ 0.0          │\n",
       "│ mean       ┆ 15.492611   ┆ 64.448276    │\n",
       "│ std        ┆ 3.477466    ┆ 8.578758     │\n",
       "│ min        ┆ 8.0         ┆ 48.0         │\n",
       "│ 25%        ┆ 12.0        ┆ 59.0         │\n",
       "│ 50%        ┆ 16.0        ┆ 63.0         │\n",
       "│ 75%        ┆ 19.0        ┆ 69.0         │\n",
       "│ max        ┆ 22.0        ┆ 109.0        │\n",
       "└────────────┴─────────────┴──────────────┘"
      ]
     },
     "execution_count": 220,
     "metadata": {},
     "output_type": "execute_result"
    }
   ],
   "source": [
    "df_ldp_sh.select('order_delay', 'cancel_delay').describe()"
   ]
  },
  {
   "cell_type": "code",
   "execution_count": 221,
   "metadata": {},
   "outputs": [
    {
     "data": {
      "text/html": [
       "<div><style>\n",
       ".dataframe > thead > tr,\n",
       ".dataframe > tbody > tr {\n",
       "  text-align: right;\n",
       "  white-space: pre-wrap;\n",
       "}\n",
       "</style>\n",
       "<small>shape: (9, 3)</small><table border=\"1\" class=\"dataframe\"><thead><tr><th>describe</th><th>order_delay</th><th>cancel_delay</th></tr><tr><td>str</td><td>f64</td><td>f64</td></tr></thead><tbody><tr><td>&quot;count&quot;</td><td>203.0</td><td>203.0</td></tr><tr><td>&quot;null_count&quot;</td><td>0.0</td><td>0.0</td></tr><tr><td>&quot;mean&quot;</td><td>15.315271</td><td>20.871921</td></tr><tr><td>&quot;std&quot;</td><td>3.448219</td><td>3.719543</td></tr><tr><td>&quot;min&quot;</td><td>9.0</td><td>11.0</td></tr><tr><td>&quot;25%&quot;</td><td>12.0</td><td>19.0</td></tr><tr><td>&quot;50%&quot;</td><td>15.0</td><td>21.0</td></tr><tr><td>&quot;75%&quot;</td><td>18.0</td><td>24.0</td></tr><tr><td>&quot;max&quot;</td><td>24.0</td><td>32.0</td></tr></tbody></table></div>"
      ],
      "text/plain": [
       "shape: (9, 3)\n",
       "┌────────────┬─────────────┬──────────────┐\n",
       "│ describe   ┆ order_delay ┆ cancel_delay │\n",
       "│ ---        ┆ ---         ┆ ---          │\n",
       "│ str        ┆ f64         ┆ f64          │\n",
       "╞════════════╪═════════════╪══════════════╡\n",
       "│ count      ┆ 203.0       ┆ 203.0        │\n",
       "│ null_count ┆ 0.0         ┆ 0.0          │\n",
       "│ mean       ┆ 15.315271   ┆ 20.871921    │\n",
       "│ std        ┆ 3.448219    ┆ 3.719543     │\n",
       "│ min        ┆ 9.0         ┆ 11.0         │\n",
       "│ 25%        ┆ 12.0        ┆ 19.0         │\n",
       "│ 50%        ┆ 15.0        ┆ 21.0         │\n",
       "│ 75%        ┆ 18.0        ┆ 24.0         │\n",
       "│ max        ┆ 24.0        ┆ 32.0         │\n",
       "└────────────┴─────────────┴──────────────┘"
      ]
     },
     "execution_count": 221,
     "metadata": {},
     "output_type": "execute_result"
    }
   ],
   "source": [
    "df_ldp_sz.select('order_delay', 'cancel_delay').describe()"
   ]
  },
  {
   "cell_type": "code",
   "execution_count": null,
   "metadata": {},
   "outputs": [],
   "source": []
  }
 ],
 "metadata": {
  "kernelspec": {
   "display_name": "jupy10",
   "language": "python",
   "name": "python3"
  },
  "language_info": {
   "codemirror_mode": {
    "name": "ipython",
    "version": 3
   },
   "file_extension": ".py",
   "mimetype": "text/x-python",
   "name": "python",
   "nbconvert_exporter": "python",
   "pygments_lexer": "ipython3",
   "version": "3.10.11"
  }
 },
 "nbformat": 4,
 "nbformat_minor": 2
}
